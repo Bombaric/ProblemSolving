{
 "cells": [
  {
   "cell_type": "code",
   "execution_count": null,
   "id": "f32f7f26",
   "metadata": {},
   "outputs": [],
   "source": [
    "#input: prezzi con colonne titoli, righe date\n",
    "#output: rendimenti con colonne titoli, righe date"
   ]
  },
  {
   "cell_type": "code",
   "execution_count": 2,
   "id": "4dd8875c",
   "metadata": {},
   "outputs": [],
   "source": [
    "#compute: log‑returns per colonna"
   ]
  },
  {
   "cell_type": "code",
   "execution_count": 3,
   "id": "84aac662",
   "metadata": {},
   "outputs": [],
   "source": [
    "#standardize: z‑score per colonna"
   ]
  },
  {
   "cell_type": "code",
   "execution_count": null,
   "id": "2734668c",
   "metadata": {},
   "outputs": [],
   "source": []
  },
  {
   "cell_type": "code",
   "execution_count": 4,
   "id": "24cb210f",
   "metadata": {},
   "outputs": [],
   "source": [
    "#build: R (T×N), poi C = (1/T) RᵀR"
   ]
  },
  {
   "cell_type": "code",
   "execution_count": 5,
   "id": "de15e806",
   "metadata": {},
   "outputs": [],
   "source": [
    "#output: autovalori/autovettori, ⟨r⟩, IPR, grafici"
   ]
  }
 ],
 "metadata": {
  "kernelspec": {
   "display_name": "Python 3",
   "language": "python",
   "name": "python3"
  },
  "language_info": {
   "codemirror_mode": {
    "name": "ipython",
    "version": 3
   },
   "file_extension": ".py",
   "mimetype": "text/x-python",
   "name": "python",
   "nbconvert_exporter": "python",
   "pygments_lexer": "ipython3",
   "version": "3.8.10"
  }
 },
 "nbformat": 4,
 "nbformat_minor": 5
}
