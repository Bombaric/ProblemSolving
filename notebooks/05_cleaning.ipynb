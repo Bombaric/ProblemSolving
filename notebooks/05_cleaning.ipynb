{
 "cells": [
  {
   "cell_type": "code",
   "execution_count": 1,
   "id": "2ff60dae",
   "metadata": {},
   "outputs": [
    {
     "name": "stderr",
     "output_type": "stream",
     "text": [
      "/tmp/ipykernel_46935/1040873868.py:12: FutureWarning: YF.download() has changed argument auto_adjust default to True\n",
      "  data = yf.download(tickers, start=\"2023-01-01\", end=\"2025-01-01\")['Close']\n",
      "[*********************100%***********************]  502 of 503 completed\n",
      "\n",
      "2 Failed downloads:\n",
      "['OTIS']: Timeout('Failed to perform, curl: (28) Connection timed out after 10002 milliseconds. See https://curl.se/libcurl/c/libcurl-errors.html first for more details.')\n",
      "['DE']: Timeout('Failed to perform, curl: (28) Connection timed out after 10001 milliseconds. See https://curl.se/libcurl/c/libcurl-errors.html first for more details.')\n"
     ]
    }
   ],
   "source": [
    "import yfinance as yf\n",
    "import pandas as pd\n",
    "import numpy as np\n",
    "import matplotlib.pyplot as plt\n",
    "#for multiple tockets\n",
    "#50 tockets\n",
    "# Scarica lista S&P500 da Wikipedia\n",
    "tickers = pd.read_csv(\"/home/ceci/ProblemSolving/notebooks/constituents.csv\")[\"Symbol\"].tolist()\n",
    "\n",
    "# Alcuni ticker hanno un punto (es. BRK.B, BF.B) → Yahoo li vuole con trattino\n",
    "tickers = [t.replace(\".\", \"-\") for t in tickers]\n",
    "data = yf.download(tickers, start=\"2023-01-01\", end=\"2025-01-01\")['Close']\n",
    "data = data.dropna(axis=1, how='all')"
   ]
  },
  {
   "cell_type": "code",
   "execution_count": 2,
   "id": "dd010722",
   "metadata": {},
   "outputs": [
    {
     "name": "stderr",
     "output_type": "stream",
     "text": [
      "/tmp/ipykernel_46935/1858708222.py:5: FutureWarning: DataFrame.fillna with 'method' is deprecated and will raise in a future version. Use obj.ffill() or obj.bfill() instead.\n",
      "  data_clean = data_clean.fillna(method='ffill').fillna(method='bfill')\n"
     ]
    }
   ],
   "source": [
    "nan_frac = data.isna().mean()\n",
    "# tieni solo colonne con meno del 5% di NaN\n",
    "ok_cols = nan_frac[nan_frac <= 0.05].index\n",
    "data_clean = data[ok_cols]\n",
    "data_clean = data_clean.fillna(method='ffill').fillna(method='bfill')\n",
    "subset = data_clean.iloc[:, :100]"
   ]
  },
  {
   "cell_type": "code",
   "execution_count": 1,
   "id": "70cb02f1",
   "metadata": {},
   "outputs": [
    {
     "ename": "ModuleNotFoundError",
     "evalue": "No module named 'finrmt'",
     "output_type": "error",
     "traceback": [
      "\u001b[0;31m---------------------------------------------------------------------------\u001b[0m",
      "\u001b[0;31mModuleNotFoundError\u001b[0m                       Traceback (most recent call last)",
      "Cell \u001b[0;32mIn[1], line 3\u001b[0m\n\u001b[1;32m      1\u001b[0m \u001b[38;5;28;01mimport\u001b[39;00m\u001b[38;5;250m \u001b[39m\u001b[38;5;21;01msys\u001b[39;00m\n\u001b[1;32m      2\u001b[0m sys\u001b[38;5;241m.\u001b[39mpath\u001b[38;5;241m.\u001b[39mappend(\u001b[38;5;124m\"\u001b[39m\u001b[38;5;124m../src\u001b[39m\u001b[38;5;124m\"\u001b[39m)\n\u001b[0;32m----> 3\u001b[0m \u001b[38;5;28;01mfrom\u001b[39;00m\u001b[38;5;250m \u001b[39m\u001b[38;5;21;01mfinrmt\u001b[39;00m\u001b[38;5;21;01m.\u001b[39;00m\u001b[38;5;21;01mdata\u001b[39;00m\u001b[38;5;250m \u001b[39m\u001b[38;5;28;01mimport\u001b[39;00m returns\n\u001b[1;32m      4\u001b[0m \u001b[38;5;28;01mfrom\u001b[39;00m\u001b[38;5;250m \u001b[39m\u001b[38;5;21;01mfinrmt\u001b[39;00m\u001b[38;5;21;01m.\u001b[39;00m\u001b[38;5;21;01mrmt\u001b[39;00m\u001b[38;5;250m \u001b[39m\u001b[38;5;28;01mimport\u001b[39;00m mp_bounds\n\u001b[1;32m      6\u001b[0m \u001b[38;5;66;03m#for multiple tockets defined before\u001b[39;00m\n",
      "\u001b[0;31mModuleNotFoundError\u001b[0m: No module named 'finrmt'"
     ]
    }
   ],
   "source": [
    "import sys\n",
    "sys.path.append(\"../src\")\n",
    "from finrmt.data import returns\n",
    "from finrmt.rmt import mp_bounds\n",
    "\n",
    "#for multiple tockets defined before\n",
    "\n",
    "ret = returns(subset)\n",
    "\n",
    "R = ret.dropna(how=\"any\").to_numpy(dtype=float)   # shape: (T, N)\n",
    "print(\"first 5 rows of returns:\\n\", ret.head())\n",
    "T, N = R.shape"
   ]
  }
 ],
 "metadata": {
  "kernelspec": {
   "display_name": "Python 3",
   "language": "python",
   "name": "python3"
  },
  "language_info": {
   "codemirror_mode": {
    "name": "ipython",
    "version": 3
   },
   "file_extension": ".py",
   "mimetype": "text/x-python",
   "name": "python",
   "nbconvert_exporter": "python",
   "pygments_lexer": "ipython3",
   "version": "3.9.5"
  }
 },
 "nbformat": 4,
 "nbformat_minor": 5
}
